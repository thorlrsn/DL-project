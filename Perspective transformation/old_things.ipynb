{
 "cells": [
  {
   "cell_type": "markdown",
   "metadata": {},
   "source": [
    "*Top Hat and Black Hat Transform*"
   ]
  },
  {
   "cell_type": "code",
   "execution_count": null,
   "metadata": {},
   "outputs": [],
   "source": [
    "# Getting the kernel to be used in Top-Hat\n",
    "filterSize =(3, 3)\n",
    "kernel = cv2.getStructuringElement(cv2.MORPH_RECT, \n",
    "                                   filterSize)\n",
    "\n",
    "print(kernel)\n",
    "# Reading the image named 'input.jpg'\n",
    "input_image = cv2.imread(\"field_frame.jpg\")\n",
    "\n",
    "input_image = cv2.cvtColor(segm, cv2.COLOR_BGR2GRAY)\n",
    "  \n",
    "# Applying the Top-Hat operation\n",
    "tophat_img = cv2.morphologyEx(segm, \n",
    "                              cv2.MORPH_TOPHAT,\n",
    "                              kernel)\n",
    "io.imshow(input_image)\n",
    "io.imshow(tophat_img)\n",
    "io.show()"
   ]
  },
  {
   "cell_type": "code",
   "execution_count": null,
   "metadata": {},
   "outputs": [],
   "source": [
    "# white color mask\n",
    "# img = hog_image\n",
    "#converted = convert_hls(img)\n",
    "image = cv2.cvtColor(input_image,cv2.COLOR_BGR2HLS)\n",
    "lower = np.uint8([0, 200, 0])\n",
    "upper = np.uint8([255, 255, 255])\n",
    "white_mask = cv2.inRange(image, lower, upper)\n",
    "# yellow color mask\n",
    "lower = np.uint8([10, 0,   100])\n",
    "upper = np.uint8([40, 255, 255])\n",
    "yellow_mask = cv2.inRange(image, lower, upper)\n",
    "# combine the mask\n",
    "mask = cv2.bitwise_or(white_mask, yellow_mask)\n",
    "# result = img.copy()\n",
    "plt.imshow(mask) \n",
    "io.show()"
   ]
  },
  {
   "cell_type": "markdown",
   "metadata": {},
   "source": [
    "*HOG FEATURES*"
   ]
  },
  {
   "cell_type": "markdown",
   "metadata": {},
   "source": [
    "*HOG FEATURES*"
   ]
  },
  {
   "cell_type": "code",
   "execution_count": null,
   "metadata": {},
   "outputs": [
    {
     "data": {
      "text/plain": [
       "113"
      ]
     },
     "metadata": {},
     "output_type": "display_data"
    }
   ],
   "source": [
    "import numpy as np\n",
    "import cv2 as cv\n",
    "filename = 'goal4.png'\n",
    "img = cv.imread(filename)\n",
    "gray = cv.cvtColor(img,cv.COLOR_BGR2GRAY)\n",
    "gray = np.float32(gray)\n",
    "dst = cv.cornerHarris(gray,2,3,0.04)\n",
    "#result is dilated for marking the corners, not important\n",
    "dst = cv.dilate(dst,None)\n",
    "# Threshold for an optimal value, it may vary depending on the image.\n",
    "img[dst>0.01*dst.max()]=[0,0,255]\n",
    "cv.imshow('dst',img)\n",
    "cv.waitKey(0) \n",
    "    "
   ]
  },
  {
   "cell_type": "code",
   "execution_count": null,
   "metadata": {},
   "outputs": [],
   "source": [
    "cv.destroyAllWindows()"
   ]
  },
  {
   "cell_type": "code",
   "execution_count": null,
   "metadata": {},
   "outputs": [],
   "source": [
    "# Opening the image (R prefixed to string\n",
    "# in order to deal with '\\' in paths)\n",
    "image_org = Image.open(\"field_frame.jpg\")\n",
    "# image_org = Image.open(\"6.jpg\")\n",
    "# image_org = Image.open(\"6.png\")\n",
    "\n",
    "# Converting the image to grayscale, as edge detection \n",
    "# requires input image to be of mode = Grayscale (L)\n",
    "image = image_org.convert(\"L\")\n",
    "# image = ImageOps.invert(image)\n",
    "\n",
    "# Detecting Edges on the Image using the argument ImageFilter.FIND_EDGES\n",
    "# image = image.filter(ImageFilter.FIND_EDGES)\n",
    "  \n",
    "# Saving the Image Under the name Edge_Sample.png\n",
    "# image.save(r\"Edge_Sample.png\")"
   ]
  },
  {
   "cell_type": "code",
   "execution_count": null,
   "metadata": {},
   "outputs": [],
   "source": [
    "def histogram_stretch(img_in):\n",
    "    \"\"\"\n",
    "    Stretches the histogram of an image\n",
    "    :param img_in: Input image\n",
    "    :return: Image, where the histogram is stretched so the min values is 0 and the maximum value 255\n",
    "    \"\"\"\n",
    "    # img_as_float will divide all pixel values with 255.0\n",
    "    img_float = img_as_float(img_in)\n",
    "    min_val = img_float.min()\n",
    "    max_val = img_float.max()\n",
    "    min_desired = 0.0\n",
    "    max_desired = 1.0\n",
    "    print(max_val)\n",
    "\n",
    "    print(min_val)\n",
    "    # Do something here\n",
    "    img_out = (img_float-min_val)*(1/(max_val-min_val))\n",
    "    # img_as_ubyte will multiply all pixel values with 255.0 before converting to unsigned byte\n",
    "    return img_as_ubyte(img_out)"
   ]
  },
  {
   "cell_type": "code",
   "execution_count": null,
   "metadata": {},
   "outputs": [],
   "source": [
    "image1 = np.array(image)\n",
    "image_org_1 = np.array(image_org)\n",
    "\n",
    "# image1 = cv2.medianBlur(image1, 3)\n",
    "io.imshow(image_org_1)\n",
    "io.show()\n",
    "\n",
    "image1 = histogram_stretch(image1)\n",
    "# print(image1)\n",
    "\n",
    "io.imshow(image1)\n",
    "io.show()\n",
    "\n",
    "# ret,image1 = cv2.threshold(image1,220,255,cv2.THRESH_BINARY)\n",
    "# ret, image1 = cv2.threshold(image1,0,255,cv2.THRESH_BINARY+cv2.THRESH_OTSU)\n",
    "\n",
    "io.imshow(image1)\n",
    "io.show()\n",
    "\n",
    "\n",
    "\n",
    "tested_angles = np.linspace( 0, 2*np.pi , 100)\n",
    "# tested_angles_1 = np.linspace( , 2*np.pi , 100)\n",
    "\n",
    "\n",
    "hspace, theta, dist = hough_line(image1, tested_angles)\n",
    "\n",
    "# lines_prob = probabilistic_hough_line(image1, threshold=10, line_length=5,\n",
    "                                #  line_gap=3)\n",
    "\n",
    "\n",
    "\n",
    "# print(\"LINES: \" ,lines)\n",
    "# print((hspace).shape)\n",
    "# print(theta)\n",
    "# print(np.max(hspace))\n",
    "h, q, d = hough_line_peaks(hspace, theta, dist)\n",
    "\n",
    "\n",
    "#Example code from skimage documentation to plot the detected lines\n",
    "angle_list=[]  #Create an empty list to capture all angles\n",
    "\n",
    "# Generating figure 1\n",
    "fig, axes = plt.subplots(1, 3, figsize=(15, 6))\n",
    "ax = axes.ravel()\n",
    "\n",
    "ax[0].imshow(image1, cmap='gray')\n",
    "ax[0].set_title('Input image')\n",
    "ax[0].set_axis_off()\n",
    "\n",
    "ax[1].imshow(np.log(1 + hspace),\n",
    "             extent=[np.rad2deg(theta[-1]), np.rad2deg(theta[0]), dist[-1], dist[0]],\n",
    "             cmap='gray', aspect=1/1.5)\n",
    "ax[1].set_title('Hough transform')\n",
    "ax[1].set_xlabel('Angles (degrees)')\n",
    "ax[1].set_ylabel('Distance (pixels)')\n",
    "ax[1].axis('image')\n",
    "\n",
    "ax[2].imshow(image1, cmap='gray')\n",
    "\n",
    "origin = np.array((0, image1.shape[1]))\n",
    "\n",
    "lines = 10\n",
    "thres = 0.1\n",
    "\n",
    "val= 3*np.pi/2\n",
    "\n",
    "while (lines > 1):\n",
    "    thres = thres + 0.02\n",
    "    _, angle1, dist1 = hough_line_peaks(hspace, theta, dist, threshold = thres * np.max(hspace)) \n",
    "    arr = angle1[ (angle1 >= val-0.05) | (angle1 <= -val+0.05) ]\n",
    "    arr2 = dist1[(angle1 >= val-0.05) | (angle1 <= -val+0.05)]\n",
    "    lines = len(arr) \n",
    "    dist2 = np.unique(arr2)\n",
    "    lines = len(dist2)\n",
    "    # print(\"detected lines:\",len(dist2)) \n",
    "\n",
    "# thres = 0.1\n",
    "\n",
    "\n",
    "for _, angle, dist in zip(*hough_line_peaks(hspace, theta, dist, threshold = thres * np.max(hspace))):#, min_distance=110)):\n",
    "    # if (angle<=-6.2) or (angle>=6.2) :\n",
    "    print(\"angle used:\", angle)\n",
    "    # if (angle>=-val) & (angle<=val) :\n",
    "    if ((angle>=val-0.05) & (angle<=val+0.05)):\n",
    "    # if (angle>=-np.pi) & (angle<=val) :\n",
    "\n",
    "        # print(\"angle used123:\", angle)\n",
    "        angle_list.append(angle) #Not for plotting but later calculation of angles\n",
    "        y0, y1 = (dist - origin * np.cos(angle)) / np.sin(angle)\n",
    "        # print(\"sth\", x)\n",
    "        # print(\"dist\", dist)\n",
    "        # print(\"origin\", origin)\n",
    "        # print(\"y0\", y0)\n",
    "        # print(\"y1\", y1)\n",
    "        ax[2].plot(origin, (y0, y1), '-r')\n",
    "        # ax[2].plot(1, x, 'ob')\n",
    "print(angle_list)\n",
    "ax[2].set_xlim(origin)\n",
    "ax[2].set_ylim((image1.shape[0], 0))\n",
    "ax[2].set_axis_off()\n",
    "ax[2].set_title('Detected lines')\n",
    "\n",
    "plt.tight_layout()\n",
    "plt.show()"
   ]
  },
  {
   "cell_type": "code",
   "execution_count": null,
   "metadata": {},
   "outputs": [],
   "source": [
    "path = 'field_frame2.jpg'\n",
    "\n",
    "image1 = np.array(image)\n",
    "image_org_1 = np.array(image_org)\n",
    "\n",
    "# image1 = cv2.medianBlur(image1, 3)\n",
    "ret,image1 = cv2.threshold(image1,227,255,cv2.THRESH_BINARY)\n",
    "io.imshow(image1)\n",
    "io.show()\n",
    "\n",
    "# lines = cv2.HoughLinesP(image1, 1, np.pi/180, 100, minLineLength=10, maxLineGap=250)\n",
    "lines = cv2.HoughLinesP(image1,1,2,250,minLineLength=10,maxLineGap=30)\n",
    "minLineLength=100\n",
    "# lines = cv2.HoughLinesP(image=image1,rho=1,theta=np.pi/180, threshold=100,lines=np.array([]), minLineLength=minLineLength,maxLineGap=80)\n",
    "print(image1.shape)\n",
    "print(image_org_1.shape)\n",
    "# lines = cv2.HoughLinesP(image1, 2, np.pi/180, 350, np.array([]), minLineLength=100, maxLineGap=5)\n",
    "if(lines):\n",
    "    print(len(lines))\n",
    "    print(lines)\n",
    "else: \n",
    "    print(\"lines not found\")\n",
    "\n",
    "threshold = -350\n",
    "error = 10\n",
    "    # Draw the lines\n",
    "   \n",
    "if lines is not None:\n",
    "    for i in range(0, len(lines)):\n",
    "        l = lines[i][0]\n",
    "        angle = math.atan2(l[3] - l[1], l[2] - l[0]) * 180.0\n",
    "        if angle>threshold: \n",
    "            print(angle)\n",
    "            cv2.line(image_org_1, (l[0], l[1]), (l[2], l[3]), (0,0,255), 1, cv2.LINE_AA)\n",
    "\n",
    "io.imshow(image_org_1)\n",
    "io.show()"
   ]
  },
  {
   "cell_type": "code",
   "execution_count": null,
   "metadata": {},
   "outputs": [
    {
     "data": {
      "image/png": "[encoded data removed]",
      "text/plain": [
       "<Figure size 432x288 with 2 Axes>"
      ]
     },
     "metadata": {},
     "output_type": "display_data"
    }
   ],
   "source": [
    "nemo = cv2.imread('field_frame2.jpg')\n",
    "nemo = cv2.cvtColor(nemo, cv2.COLOR_BGR2RGB)\n",
    "hsv_nemo = cv2.cvtColor(nemo, cv2.COLOR_RGB2HSV)\n",
    "light_white = (0, 0, 200)\n",
    "dark_white = (145, 60, 255)\n",
    "mask_white = cv2.inRange(hsv_nemo, light_white, dark_white)\n",
    "result_white = cv2.bitwise_and(nemo, nemo, mask=mask_white)\n",
    "\n",
    "plt.subplot(1, 2, 1)\n",
    "plt.imshow(mask_white, cmap=\"gray\")\n",
    "plt.subplot(1, 2, 2)\n",
    "plt.imshow(result_white)\n",
    "plt.show()"
   ]
  }
 ],
 "metadata": {
  "kernelspec": {
   "display_name": "Python 3.9.12 ('base')",
   "language": "python",
   "name": "python3"
  },
  "language_info": {
   "codemirror_mode": {
    "name": "ipython",
    "version": 3
   },
   "file_extension": ".py",
   "mimetype": "text/x-python",
   "name": "python",
   "nbconvert_exporter": "python",
   "pygments_lexer": "ipython3",
   "version": "3.9.12"
  },
  "orig_nbformat": 4,
  "vscode": {
   "interpreter": {
    "hash": "90a596e350d7e4af81385ffa63deb5182ddfe3def516c1f2eb39338a46674a4a"
   }
  }
 },
 "nbformat": 4,
 "nbformat_minor": 2
}
